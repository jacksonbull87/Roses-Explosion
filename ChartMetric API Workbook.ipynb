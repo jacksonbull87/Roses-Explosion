{
 "cells": [
  {
   "cell_type": "markdown",
   "metadata": {},
   "source": [
    "## Import Libraries\n",
    "\n"
   ]
  },
  {
   "cell_type": "code",
   "execution_count": null,
   "metadata": {},
   "outputs": [],
   "source": [
    "#import libraries\n",
    "from cm_api import get_api_token, get_track_metadata, requests, get_chart_data, get_tiktok_chart_data, get_artist_id\n",
    "import pandas as pd\n",
    "import re\n",
    "from cm_config import token"
   ]
  },
  {
   "cell_type": "markdown",
   "metadata": {},
   "source": [
    "## Refresh Token for ChartMetric API"
   ]
  },
  {
   "cell_type": "code",
   "execution_count": 4,
   "metadata": {},
   "outputs": [],
   "source": [
    "#save refresh token to variable\n",
    "\n",
    "REFRESH_TOKEN = token['refresh_token']"
   ]
  },
  {
   "cell_type": "markdown",
   "metadata": {},
   "source": [
    "## Get api_token"
   ]
  },
  {
   "cell_type": "code",
   "execution_count": 10,
   "metadata": {},
   "outputs": [],
   "source": [
    "#get api_token and save it to a variable\n",
    "api_token = get_api_token(REFRESH_TOKEN)\n"
   ]
  },
  {
   "cell_type": "markdown",
   "metadata": {},
   "source": [
    "## Get Shazam Chart Data"
   ]
  },
  {
   "cell_type": "code",
   "execution_count": null,
   "metadata": {},
   "outputs": [],
   "source": [
    "#shazam chart data\n",
    "shazam_charts = get_chart_data(api_token, '28795304', 'shazam', '2019-08-04')"
   ]
  },
  {
   "cell_type": "code",
   "execution_count": null,
   "metadata": {},
   "outputs": [],
   "source": [
    "shazam_charts"
   ]
  },
  {
   "cell_type": "code",
   "execution_count": null,
   "metadata": {},
   "outputs": [],
   "source": [
    "#parse shazam data\n",
    "\n",
    "roses_bucket = []\n",
    "for item in shazam_charts:\n",
    "    item_tuple = (item['id'], item['rank'], item['added_at'], item['code2'], item['city'], item['pre_rank'],\n",
    "                 item['peak_rank'], item['peak_date'], item['release_dates'][0])\n",
    "    roses_bucket.append(item_tuple)\n",
    "    \n",
    "\n",
    "    "
   ]
  },
  {
   "cell_type": "code",
   "execution_count": null,
   "metadata": {},
   "outputs": [],
   "source": [
    "#create pandas dataframe for shazam chart postions\n",
    "\n",
    "df = pd.DataFrame(roses_bucket, columns=['shazam_id', 'rank', 'added_at', 'code2', 'city', 'pre_rank', \n",
    "                                         'peak_rank', 'peak_date', 'release_date'])"
   ]
  },
  {
   "cell_type": "markdown",
   "metadata": {},
   "source": [
    "## Data Cleaning"
   ]
  },
  {
   "cell_type": "code",
   "execution_count": null,
   "metadata": {},
   "outputs": [],
   "source": [
    "#strip white space in code2 column\n",
    "df['code2'] = df['code2'].apply(lambda x: x.strip())"
   ]
  },
  {
   "cell_type": "code",
   "execution_count": null,
   "metadata": {},
   "outputs": [],
   "source": [
    "df.info()"
   ]
  },
  {
   "cell_type": "code",
   "execution_count": null,
   "metadata": {},
   "outputs": [],
   "source": [
    "#convert dates columns to datetime\n",
    "\n",
    "df['added_at'] = pd.to_datetime(df['added_at'], format='%Y/%m/%d')\n",
    "df['peak_date'] = pd.to_datetime(df['peak_date'], format='%Y/%m/%d')\n",
    "df['release_date'] = pd.to_datetime(df['release_date'], format='%Y/%m/%d')"
   ]
  },
  {
   "cell_type": "code",
   "execution_count": null,
   "metadata": {},
   "outputs": [],
   "source": [
    "df"
   ]
  },
  {
   "cell_type": "markdown",
   "metadata": {},
   "source": [
    "## Save Dataframe to CSV file"
   ]
  },
  {
   "cell_type": "code",
   "execution_count": null,
   "metadata": {},
   "outputs": [],
   "source": [
    "df.to_csv('datasets/roses_shazam_chart.csv')"
   ]
  },
  {
   "cell_type": "code",
   "execution_count": null,
   "metadata": {},
   "outputs": [],
   "source": [
    "#open csv file\n",
    "df = pd.read_csv('datasets/roses_shazam_chart', index_col=0)\n",
    "df"
   ]
  },
  {
   "cell_type": "code",
   "execution_count": null,
   "metadata": {},
   "outputs": [],
   "source": [
    "#save file to json\n",
    "df.to_json('datasets/roses_shazam_chart.json')"
   ]
  },
  {
   "cell_type": "code",
   "execution_count": null,
   "metadata": {},
   "outputs": [],
   "source": [
    "#save as excel file\n",
    "df.to_excel('datasets/roses_shazam_chart.xlsx')"
   ]
  },
  {
   "cell_type": "code",
   "execution_count": null,
   "metadata": {},
   "outputs": [],
   "source": [
    "df_json = pd.read_json('datasets/roses_shazam_chart.json')\n",
    "df_json"
   ]
  },
  {
   "cell_type": "code",
   "execution_count": null,
   "metadata": {},
   "outputs": [],
   "source": [
    "US_market =  df_json[df_json['code2'] == 'US']"
   ]
  },
  {
   "cell_type": "code",
   "execution_count": null,
   "metadata": {},
   "outputs": [],
   "source": [
    "US_market['added_at'].min()"
   ]
  },
  {
   "cell_type": "code",
   "execution_count": null,
   "metadata": {},
   "outputs": [],
   "source": [
    "df_json.iloc[538]"
   ]
  },
  {
   "cell_type": "code",
   "execution_count": null,
   "metadata": {},
   "outputs": [],
   "source": [
    "df_json['added_at'].sort_values(ascending=False)"
   ]
  },
  {
   "cell_type": "code",
   "execution_count": null,
   "metadata": {},
   "outputs": [],
   "source": [
    "US_market"
   ]
  },
  {
   "cell_type": "markdown",
   "metadata": {},
   "source": [
    "## Get itunes Top Data"
   ]
  },
  {
   "cell_type": "code",
   "execution_count": null,
   "metadata": {},
   "outputs": [],
   "source": [
    "itunes_top = get_chart_data(api_token, '28795304', 'itunes_top', '2019-10-05')"
   ]
  },
  {
   "cell_type": "code",
   "execution_count": null,
   "metadata": {},
   "outputs": [],
   "source": [
    "#parse itunes data\n",
    "\n",
    "roses_Itunes_bucket = []\n",
    "for item in itunes_top:\n",
    "    item_tuple = (item['id'], item['code2s'][0],item['code2'], item['release_dates'][0], item['rank'], item['added_at'], \n",
    "                    item['pre_rank'], item['peak_rank'], item['peak_date'])\n",
    "    roses_Itunes_bucket.append(item_tuple)\n",
    "   \n",
    "    "
   ]
  },
  {
   "cell_type": "markdown",
   "metadata": {},
   "source": [
    "## Clean iTunes Data"
   ]
  },
  {
   "cell_type": "code",
   "execution_count": null,
   "metadata": {},
   "outputs": [],
   "source": [
    "#convert itunes data to dataframe\n",
    "\n",
    "itunes_df = pd.DataFrame(roses_Itunes_bucket, columns=['id', 'code2s', 'code2', 'release date', 'rank', 'added_at', 'pre_rank', 'peak_rank', 'peak_date'])"
   ]
  },
  {
   "cell_type": "code",
   "execution_count": null,
   "metadata": {},
   "outputs": [],
   "source": [
    "\n",
    "\n",
    "#convert dates columns to datetime\n",
    "\n",
    "itunes_df['release date'] = pd.to_datetime(itunes_df['release date'], format='%Y/%m/%d')\n",
    "itunes_df['added_at'] = pd.to_datetime(itunes_df['added_at'], format='%Y/%m/%d')\n",
    "itunes_df['peak_date'] = pd.to_datetime(itunes_df['peak_date'], format='%Y/%m/%d')"
   ]
  },
  {
   "cell_type": "markdown",
   "metadata": {},
   "source": [
    "## Save iTunes Data to CSV File"
   ]
  },
  {
   "cell_type": "code",
   "execution_count": null,
   "metadata": {},
   "outputs": [],
   "source": [
    "itunes_df.to_csv('datasets/roses_itunes_chart.csv')"
   ]
  },
  {
   "cell_type": "markdown",
   "metadata": {},
   "source": [
    "## Retrieve TikTok Chart data"
   ]
  },
  {
   "cell_type": "code",
   "execution_count": null,
   "metadata": {},
   "outputs": [],
   "source": [
    "date_range = ['2020-08-08', '2020-08-15']\n",
    "\n",
    "for date in date_range:\n",
    "    #for each date grab the top 100 tik tok tracks\n",
    "    tt_chart = get_tiktok_chart_data(api_token, 'tracks', date, 'weekly')\n",
    "    \n",
    "    data_bucket = []\n",
    "    for track in tt_chart:\n",
    "        #for each track on the chart, parse the data into a tuple\n",
    "        track_tuple = (track['name'], track['tiktok_artist_names'][0], track['cm_track'], track['album_label'][0], track['release_dates'][0], track['rank'],\n",
    "                      track['weekly_posts'], track['added_at'], track['velocity'], track['pre_rank'], track['peak_rank'], \n",
    "                      track['peak_date'], track['time_on_chart'], track['rankStats'][0]['rank'], track['rankStats'][0]['weekly_posts'], \n",
    "                      track['rankStats'][0]['timestp'], track['rankStats'][-1]['rank'], track['rankStats'][-1]['weekly_posts'], \n",
    "                      track['rankStats'][-1]['timestp'])\n",
    "        #add each tuple to a giant list where all the desired track's metadata will live\n",
    "        data_bucket.append(track_tuple)\n",
    "    #create a dataframe with correct column names\n",
    "    df = pd.DataFrame(data_bucket, columns=['track_name','artist_name', 'cm_id', 'label', 'release_date', 'rank', \n",
    "                                      'weekly_posts', 'add_date', 'velocity', 'pre_rank', 'peak_rank', 'peak_date', 'time_on_chart', \n",
    "                                      'rank_week_start', 'weekly_posts_start', 'week_start_date', 'rank_week_end', 'weekly_posts_end', 'week_end_date'])\n",
    "    #convert date columns to actual datetimes\n",
    "    df['release_date'] = pd.to_datetime(df['release_date'], format='%Y/%m/%d')\n",
    "    df['add_date'] = pd.to_datetime(df['add_date'], format='%Y/%m/%d')\n",
    "    df['peak_date'] = pd.to_datetime(df['peak_date'], format='%Y/%m/%d')\n",
    "    df['week_start_date'] = pd.to_datetime(df['week_start_date'], format='%Y/%m/%d')\n",
    "    df['week_end_date'] = pd.to_datetime(df['week_end_date'], format='%Y/%m/%d')\n",
    "    #save dataframes as csv to a folder\n",
    "    df.to_csv('datasets/tiktokweekly_{}.csv'.format(date))"
   ]
  },
  {
   "cell_type": "code",
   "execution_count": null,
   "metadata": {},
   "outputs": [],
   "source": [
    "import os\n",
    "import re\n",
    "\n",
    "ttwk_200502 = pd.read_csv('datasets/tiktokweekly_2020-05-02.csv', index_col=0)\n",
    "ttwk_200509 = pd.read_csv('datasets/tiktokweekly_2020-05-09.csv', index_col=0)\n",
    "ttwk_200516 = pd.read_csv('datasets/tiktokweekly_2020-05-16.csv', index_col=0)\n",
    "ttwk_200523 = pd.read_csv('datasets/tiktokweekly_2020-05-23.csv', index_col=0)\n",
    "ttwk_200530 = pd.read_csv('datasets/tiktokweekly_2020-05-30.csv', index_col=0)\n",
    "ttwk_200606 = pd.read_csv('datasets/tiktokweekly_2020-06-06.csv', index_col=0)\n",
    "ttwk_200613 = pd.read_csv('datasets/tiktokweekly_2020-06-13.csv', index_col=0)\n",
    "ttwk_200620 = pd.read_csv('datasets/tiktokweekly_2020-06-20.csv', index_col=0)\n",
    "ttwk_200627 = pd.read_csv('datasets/tiktokweekly_2020-06-27.csv', index_col=0)\n",
    "ttwk_200704 = pd.read_csv('datasets/tiktokweekly_2020-07-04.csv', index_col=0)\n",
    "ttwk_200718 = pd.read_csv('datasets/tiktokweekly_2020-07-18.csv', index_col=0)\n",
    "ttwk_200725 = pd.read_csv('datasets/tiktokweekly_2020-07-25.csv', index_col=0)\n",
    "ttwk_200801 = pd.read_csv('datasets/tiktokweekly_2020-08-01.csv', index_col=0)\n",
    "ttwk_200808 = pd.read_csv('datasets/tiktokweekly_2020-08-08.csv', index_col=0)\n",
    "ttwk_200815 = pd.read_csv('datasets/tiktokweekly_2020-08-15.csv', index_col=0)"
   ]
  },
  {
   "cell_type": "code",
   "execution_count": null,
   "metadata": {},
   "outputs": [],
   "source": [
    "master_df = pd.concat([ttwk_200502,ttwk_200509,ttwk_200516,ttwk_200523, ttwk_200530, ttwk_200606, ttwk_200613, ttwk_200620, ttwk_200627,\n",
    "          ttwk_200704, ttwk_200718, ttwk_200725, ttwk_200801, ttwk_200808, ttwk_200815])\n",
    "        "
   ]
  },
  {
   "cell_type": "code",
   "execution_count": null,
   "metadata": {},
   "outputs": [],
   "source": [
    "#save master df to csv file\n",
    "\n",
    "master_df.to_csv('datasets/historic_ttwk.csv')"
   ]
  },
  {
   "cell_type": "code",
   "execution_count": 11,
   "metadata": {},
   "outputs": [
    {
     "data": {
      "text/html": [
       "<div>\n",
       "<style scoped>\n",
       "    .dataframe tbody tr th:only-of-type {\n",
       "        vertical-align: middle;\n",
       "    }\n",
       "\n",
       "    .dataframe tbody tr th {\n",
       "        vertical-align: top;\n",
       "    }\n",
       "\n",
       "    .dataframe thead th {\n",
       "        text-align: right;\n",
       "    }\n",
       "</style>\n",
       "<table border=\"1\" class=\"dataframe\">\n",
       "  <thead>\n",
       "    <tr style=\"text-align: right;\">\n",
       "      <th></th>\n",
       "      <th>track_name</th>\n",
       "      <th>artist_name</th>\n",
       "      <th>cm_id</th>\n",
       "      <th>label</th>\n",
       "      <th>release_date</th>\n",
       "      <th>rank</th>\n",
       "      <th>weekly_posts</th>\n",
       "      <th>add_date</th>\n",
       "      <th>velocity</th>\n",
       "      <th>pre_rank</th>\n",
       "      <th>peak_rank</th>\n",
       "      <th>peak_date</th>\n",
       "      <th>time_on_chart</th>\n",
       "      <th>rank_week_start</th>\n",
       "      <th>weekly_posts_start</th>\n",
       "      <th>week_start_date</th>\n",
       "      <th>rank_week_end</th>\n",
       "      <th>weekly_posts_end</th>\n",
       "      <th>week_end_date</th>\n",
       "    </tr>\n",
       "  </thead>\n",
       "  <tbody>\n",
       "    <tr>\n",
       "      <th>0</th>\n",
       "      <td>Savage</td>\n",
       "      <td>Megan Thee Stallion</td>\n",
       "      <td>28677612.0</td>\n",
       "      <td>300 Entertainment</td>\n",
       "      <td>2020-03-06 00:00:00+00:00</td>\n",
       "      <td>1</td>\n",
       "      <td>1428140</td>\n",
       "      <td>2020-05-02 00:00:00+00:00</td>\n",
       "      <td>0.142857</td>\n",
       "      <td>1.0</td>\n",
       "      <td>1</td>\n",
       "      <td>2020-05-11 00:00:00+00:00</td>\n",
       "      <td>125</td>\n",
       "      <td>2</td>\n",
       "      <td>2062314</td>\n",
       "      <td>2020-04-25 00:00:00+00:00</td>\n",
       "      <td>1</td>\n",
       "      <td>1428140</td>\n",
       "      <td>2020-05-02 00:00:00+00:00</td>\n",
       "    </tr>\n",
       "    <tr>\n",
       "      <th>1</th>\n",
       "      <td>Laxed (Siren Beat)</td>\n",
       "      <td>Jawsh 685</td>\n",
       "      <td>29203381.0</td>\n",
       "      <td>Jawsh 685</td>\n",
       "      <td>2020-04-24 00:00:00+00:00</td>\n",
       "      <td>2</td>\n",
       "      <td>876269</td>\n",
       "      <td>2020-05-02 00:00:00+00:00</td>\n",
       "      <td>NaN</td>\n",
       "      <td>2.0</td>\n",
       "      <td>1</td>\n",
       "      <td>2020-05-09 00:00:00+00:00</td>\n",
       "      <td>88</td>\n",
       "      <td>4</td>\n",
       "      <td>1170310</td>\n",
       "      <td>2020-04-28 00:00:00+00:00</td>\n",
       "      <td>2</td>\n",
       "      <td>876269</td>\n",
       "      <td>2020-05-02 00:00:00+00:00</td>\n",
       "    </tr>\n",
       "    <tr>\n",
       "      <th>2</th>\n",
       "      <td>Let's Do It Again</td>\n",
       "      <td>J Boog</td>\n",
       "      <td>15953367.0</td>\n",
       "      <td>Washhouse Hawaii</td>\n",
       "      <td>2011-09-27 00:00:00+00:00</td>\n",
       "      <td>3</td>\n",
       "      <td>667071</td>\n",
       "      <td>2020-05-02 00:00:00+00:00</td>\n",
       "      <td>NaN</td>\n",
       "      <td>3.0</td>\n",
       "      <td>3</td>\n",
       "      <td>2020-05-10 00:00:00+00:00</td>\n",
       "      <td>74</td>\n",
       "      <td>5</td>\n",
       "      <td>725338</td>\n",
       "      <td>2020-04-29 00:00:00+00:00</td>\n",
       "      <td>3</td>\n",
       "      <td>667071</td>\n",
       "      <td>2020-05-02 00:00:00+00:00</td>\n",
       "    </tr>\n",
       "    <tr>\n",
       "      <th>3</th>\n",
       "      <td>Bagaikan Langit（cover）</td>\n",
       "      <td>_ucil👑</td>\n",
       "      <td>NaN</td>\n",
       "      <td>NaN</td>\n",
       "      <td>NaN</td>\n",
       "      <td>4</td>\n",
       "      <td>528711</td>\n",
       "      <td>2020-05-02 00:00:00+00:00</td>\n",
       "      <td>0.000000</td>\n",
       "      <td>4.0</td>\n",
       "      <td>1</td>\n",
       "      <td>2020-02-12 00:00:00+00:00</td>\n",
       "      <td>118</td>\n",
       "      <td>4</td>\n",
       "      <td>804732</td>\n",
       "      <td>2020-04-25 00:00:00+00:00</td>\n",
       "      <td>4</td>\n",
       "      <td>528711</td>\n",
       "      <td>2020-05-02 00:00:00+00:00</td>\n",
       "    </tr>\n",
       "    <tr>\n",
       "      <th>4</th>\n",
       "      <td>Toosie Slide</td>\n",
       "      <td>Drake</td>\n",
       "      <td>28904803.0</td>\n",
       "      <td>OVO</td>\n",
       "      <td>2020-04-03 00:00:00+00:00</td>\n",
       "      <td>5</td>\n",
       "      <td>501313</td>\n",
       "      <td>2020-05-02 00:00:00+00:00</td>\n",
       "      <td>0.000000</td>\n",
       "      <td>5.0</td>\n",
       "      <td>4</td>\n",
       "      <td>2020-05-05 00:00:00+00:00</td>\n",
       "      <td>106</td>\n",
       "      <td>5</td>\n",
       "      <td>785850</td>\n",
       "      <td>2020-04-25 00:00:00+00:00</td>\n",
       "      <td>5</td>\n",
       "      <td>501313</td>\n",
       "      <td>2020-05-02 00:00:00+00:00</td>\n",
       "    </tr>\n",
       "    <tr>\n",
       "      <th>...</th>\n",
       "      <td>...</td>\n",
       "      <td>...</td>\n",
       "      <td>...</td>\n",
       "      <td>...</td>\n",
       "      <td>...</td>\n",
       "      <td>...</td>\n",
       "      <td>...</td>\n",
       "      <td>...</td>\n",
       "      <td>...</td>\n",
       "      <td>...</td>\n",
       "      <td>...</td>\n",
       "      <td>...</td>\n",
       "      <td>...</td>\n",
       "      <td>...</td>\n",
       "      <td>...</td>\n",
       "      <td>...</td>\n",
       "      <td>...</td>\n",
       "      <td>...</td>\n",
       "      <td>...</td>\n",
       "    </tr>\n",
       "    <tr>\n",
       "      <th>95</th>\n",
       "      <td>Kolors</td>\n",
       "      <td>Monte Booker &amp; Smino</td>\n",
       "      <td>13755632.0</td>\n",
       "      <td>Soulection</td>\n",
       "      <td>2016-06-29 00:00:00+00:00</td>\n",
       "      <td>96</td>\n",
       "      <td>100000</td>\n",
       "      <td>2020-08-15 00:00:00+00:00</td>\n",
       "      <td>-10.142857</td>\n",
       "      <td>39.0</td>\n",
       "      <td>1</td>\n",
       "      <td>2020-07-06 00:00:00+00:00</td>\n",
       "      <td>63</td>\n",
       "      <td>25</td>\n",
       "      <td>300000</td>\n",
       "      <td>2020-08-08 00:00:00+00:00</td>\n",
       "      <td>96</td>\n",
       "      <td>100000</td>\n",
       "      <td>2020-08-15 00:00:00+00:00</td>\n",
       "    </tr>\n",
       "    <tr>\n",
       "      <th>96</th>\n",
       "      <td>High Fashion (feat. Mustard)</td>\n",
       "      <td>Roddy Ricch</td>\n",
       "      <td>27599219.0</td>\n",
       "      <td>Atlantic Records</td>\n",
       "      <td>2019-12-06 00:00:00+00:00</td>\n",
       "      <td>97</td>\n",
       "      <td>100000</td>\n",
       "      <td>2020-08-15 00:00:00+00:00</td>\n",
       "      <td>NaN</td>\n",
       "      <td>80.0</td>\n",
       "      <td>52</td>\n",
       "      <td>2020-08-10 00:00:00+00:00</td>\n",
       "      <td>88</td>\n",
       "      <td>54</td>\n",
       "      <td>100000</td>\n",
       "      <td>2020-08-09 00:00:00+00:00</td>\n",
       "      <td>97</td>\n",
       "      <td>100000</td>\n",
       "      <td>2020-08-15 00:00:00+00:00</td>\n",
       "    </tr>\n",
       "    <tr>\n",
       "      <th>97</th>\n",
       "      <td>I'm Just a Kid</td>\n",
       "      <td>Simple Plan</td>\n",
       "      <td>15073090.0</td>\n",
       "      <td>Rhino Atlantic</td>\n",
       "      <td>2018-04-06 00:00:00+00:00</td>\n",
       "      <td>98</td>\n",
       "      <td>100000</td>\n",
       "      <td>2020-08-15 00:00:00+00:00</td>\n",
       "      <td>NaN</td>\n",
       "      <td>93.0</td>\n",
       "      <td>7</td>\n",
       "      <td>2020-04-29 00:00:00+00:00</td>\n",
       "      <td>142</td>\n",
       "      <td>58</td>\n",
       "      <td>100000</td>\n",
       "      <td>2020-08-09 00:00:00+00:00</td>\n",
       "      <td>98</td>\n",
       "      <td>100000</td>\n",
       "      <td>2020-08-15 00:00:00+00:00</td>\n",
       "    </tr>\n",
       "    <tr>\n",
       "      <th>98</th>\n",
       "      <td>Party Girl</td>\n",
       "      <td>StaySolidRocky</td>\n",
       "      <td>29155495.0</td>\n",
       "      <td>Columbia</td>\n",
       "      <td>2020-04-21 00:00:00+00:00</td>\n",
       "      <td>99</td>\n",
       "      <td>100000</td>\n",
       "      <td>2020-08-15 00:00:00+00:00</td>\n",
       "      <td>-9.285714</td>\n",
       "      <td>31.0</td>\n",
       "      <td>5</td>\n",
       "      <td>2020-05-25 00:00:00+00:00</td>\n",
       "      <td>85</td>\n",
       "      <td>34</td>\n",
       "      <td>200000</td>\n",
       "      <td>2020-08-08 00:00:00+00:00</td>\n",
       "      <td>99</td>\n",
       "      <td>100000</td>\n",
       "      <td>2020-08-15 00:00:00+00:00</td>\n",
       "    </tr>\n",
       "    <tr>\n",
       "      <th>99</th>\n",
       "      <td>Oops！</td>\n",
       "      <td>PauPau 🇵🇭</td>\n",
       "      <td>NaN</td>\n",
       "      <td>NaN</td>\n",
       "      <td>NaN</td>\n",
       "      <td>100</td>\n",
       "      <td>100000</td>\n",
       "      <td>2020-08-15 00:00:00+00:00</td>\n",
       "      <td>NaN</td>\n",
       "      <td>109.0</td>\n",
       "      <td>15</td>\n",
       "      <td>2020-05-04 00:00:00+00:00</td>\n",
       "      <td>91</td>\n",
       "      <td>61</td>\n",
       "      <td>100000</td>\n",
       "      <td>2020-08-11 00:00:00+00:00</td>\n",
       "      <td>100</td>\n",
       "      <td>100000</td>\n",
       "      <td>2020-08-15 00:00:00+00:00</td>\n",
       "    </tr>\n",
       "  </tbody>\n",
       "</table>\n",
       "<p>1500 rows × 19 columns</p>\n",
       "</div>"
      ],
      "text/plain": [
       "                      track_name           artist_name       cm_id  \\\n",
       "0                         Savage   Megan Thee Stallion  28677612.0   \n",
       "1             Laxed (Siren Beat)             Jawsh 685  29203381.0   \n",
       "2              Let's Do It Again                J Boog  15953367.0   \n",
       "3         Bagaikan Langit（cover）                _ucil👑         NaN   \n",
       "4                   Toosie Slide                 Drake  28904803.0   \n",
       "..                           ...                   ...         ...   \n",
       "95                        Kolors  Monte Booker & Smino  13755632.0   \n",
       "96  High Fashion (feat. Mustard)           Roddy Ricch  27599219.0   \n",
       "97                I'm Just a Kid           Simple Plan  15073090.0   \n",
       "98                    Party Girl        StaySolidRocky  29155495.0   \n",
       "99                         Oops！             PauPau 🇵🇭         NaN   \n",
       "\n",
       "                label               release_date  rank  weekly_posts  \\\n",
       "0   300 Entertainment  2020-03-06 00:00:00+00:00     1       1428140   \n",
       "1           Jawsh 685  2020-04-24 00:00:00+00:00     2        876269   \n",
       "2    Washhouse Hawaii  2011-09-27 00:00:00+00:00     3        667071   \n",
       "3                 NaN                        NaN     4        528711   \n",
       "4                 OVO  2020-04-03 00:00:00+00:00     5        501313   \n",
       "..                ...                        ...   ...           ...   \n",
       "95         Soulection  2016-06-29 00:00:00+00:00    96        100000   \n",
       "96   Atlantic Records  2019-12-06 00:00:00+00:00    97        100000   \n",
       "97     Rhino Atlantic  2018-04-06 00:00:00+00:00    98        100000   \n",
       "98           Columbia  2020-04-21 00:00:00+00:00    99        100000   \n",
       "99                NaN                        NaN   100        100000   \n",
       "\n",
       "                     add_date   velocity  pre_rank  peak_rank  \\\n",
       "0   2020-05-02 00:00:00+00:00   0.142857       1.0          1   \n",
       "1   2020-05-02 00:00:00+00:00        NaN       2.0          1   \n",
       "2   2020-05-02 00:00:00+00:00        NaN       3.0          3   \n",
       "3   2020-05-02 00:00:00+00:00   0.000000       4.0          1   \n",
       "4   2020-05-02 00:00:00+00:00   0.000000       5.0          4   \n",
       "..                        ...        ...       ...        ...   \n",
       "95  2020-08-15 00:00:00+00:00 -10.142857      39.0          1   \n",
       "96  2020-08-15 00:00:00+00:00        NaN      80.0         52   \n",
       "97  2020-08-15 00:00:00+00:00        NaN      93.0          7   \n",
       "98  2020-08-15 00:00:00+00:00  -9.285714      31.0          5   \n",
       "99  2020-08-15 00:00:00+00:00        NaN     109.0         15   \n",
       "\n",
       "                    peak_date  time_on_chart  rank_week_start  \\\n",
       "0   2020-05-11 00:00:00+00:00            125                2   \n",
       "1   2020-05-09 00:00:00+00:00             88                4   \n",
       "2   2020-05-10 00:00:00+00:00             74                5   \n",
       "3   2020-02-12 00:00:00+00:00            118                4   \n",
       "4   2020-05-05 00:00:00+00:00            106                5   \n",
       "..                        ...            ...              ...   \n",
       "95  2020-07-06 00:00:00+00:00             63               25   \n",
       "96  2020-08-10 00:00:00+00:00             88               54   \n",
       "97  2020-04-29 00:00:00+00:00            142               58   \n",
       "98  2020-05-25 00:00:00+00:00             85               34   \n",
       "99  2020-05-04 00:00:00+00:00             91               61   \n",
       "\n",
       "    weekly_posts_start            week_start_date  rank_week_end  \\\n",
       "0              2062314  2020-04-25 00:00:00+00:00              1   \n",
       "1              1170310  2020-04-28 00:00:00+00:00              2   \n",
       "2               725338  2020-04-29 00:00:00+00:00              3   \n",
       "3               804732  2020-04-25 00:00:00+00:00              4   \n",
       "4               785850  2020-04-25 00:00:00+00:00              5   \n",
       "..                 ...                        ...            ...   \n",
       "95              300000  2020-08-08 00:00:00+00:00             96   \n",
       "96              100000  2020-08-09 00:00:00+00:00             97   \n",
       "97              100000  2020-08-09 00:00:00+00:00             98   \n",
       "98              200000  2020-08-08 00:00:00+00:00             99   \n",
       "99              100000  2020-08-11 00:00:00+00:00            100   \n",
       "\n",
       "    weekly_posts_end              week_end_date  \n",
       "0            1428140  2020-05-02 00:00:00+00:00  \n",
       "1             876269  2020-05-02 00:00:00+00:00  \n",
       "2             667071  2020-05-02 00:00:00+00:00  \n",
       "3             528711  2020-05-02 00:00:00+00:00  \n",
       "4             501313  2020-05-02 00:00:00+00:00  \n",
       "..               ...                        ...  \n",
       "95            100000  2020-08-15 00:00:00+00:00  \n",
       "96            100000  2020-08-15 00:00:00+00:00  \n",
       "97            100000  2020-08-15 00:00:00+00:00  \n",
       "98            100000  2020-08-15 00:00:00+00:00  \n",
       "99            100000  2020-08-15 00:00:00+00:00  \n",
       "\n",
       "[1500 rows x 19 columns]"
      ]
     },
     "execution_count": 11,
     "metadata": {},
     "output_type": "execute_result"
    }
   ],
   "source": [
    "master_df = pd.read_csv('datasets/historic_ttwk.csv', index_col=0)\n",
    "master_df"
   ]
  },
  {
   "cell_type": "code",
   "execution_count": 14,
   "metadata": {},
   "outputs": [
    {
     "name": "stdout",
     "output_type": "stream",
     "text": [
      "Number of Unique Tracks:  375\n",
      "Number of Unique Artists:  351\n"
     ]
    }
   ],
   "source": [
    "#how many unique songs\n",
    "\n",
    "print(\"Number of Unique Tracks: \", master_df['track_name'].nunique())\n",
    "print(\"Number of Unique Artists: \", master_df['artist_name'].nunique())"
   ]
  },
  {
   "cell_type": "markdown",
   "metadata": {},
   "source": [
    "## Add CM ID for each artist"
   ]
  },
  {
   "cell_type": "markdown",
   "metadata": {},
   "source": [
    "### Open Up Master Dataframe of Weekly TikTok Chart Data (08-15-20 thru 05-02-20)"
   ]
  },
  {
   "cell_type": "code",
   "execution_count": null,
   "metadata": {},
   "outputs": [],
   "source": [
    "master_df = pd.read_csv('datasets/historic_ttwk.csv', index_col=0)\n",
    "master_df"
   ]
  },
  {
   "cell_type": "markdown",
   "metadata": {},
   "source": [
    "### Isolate Artists with Top 10 Ranked Tracks"
   ]
  },
  {
   "cell_type": "code",
   "execution_count": null,
   "metadata": {},
   "outputs": [],
   "source": [
    "#lets find a list of artists who have been ranked in the past 4 months\n",
    "\n",
    "top10_rankings = master_df[master_df['rank'] < 11]\n",
    "top10_ttartists = list(top10_rankings['artist_name'].unique())\n",
    "top10_ttartists"
   ]
  },
  {
   "cell_type": "markdown",
   "metadata": {},
   "source": [
    "### Create DIctionary of Artist Chartmetric IDs"
   ]
  },
  {
   "cell_type": "code",
   "execution_count": null,
   "metadata": {},
   "outputs": [],
   "source": [
    "#lets create a dictionary consisting of artists and their associated chartmetric IDs so that we can retreive social media\n",
    "#data for each artist\n",
    "\n",
    "cm_artistIDs = []\n",
    "for artist in top10_ttartists:\n",
    "    cm_id = get_artist_id(api_token, artist, 'artists')\n",
    "    cm_artistIDs.append(cm_id)\n",
    "    \n",
    "cm_artistIDs_dict = {}\n",
    "\n",
    "for key in top10_ttartists:\n",
    "    for value in cm_artistIDs:\n",
    "        cm_artistIDs_dict[key] = value\n",
    "        cm_artistIDs.remove(value)\n",
    "        break\n"
   ]
  },
  {
   "cell_type": "code",
   "execution_count": null,
   "metadata": {},
   "outputs": [],
   "source": [
    "master_df['cm_artist_id'] =  master_df['artist_name'].apply(lambda x: get_artist_id(api_token, x, 'artists'))"
   ]
  },
  {
   "cell_type": "code",
   "execution_count": null,
   "metadata": {},
   "outputs": [],
   "source": []
  },
  {
   "cell_type": "code",
   "execution_count": null,
   "metadata": {},
   "outputs": [],
   "source": [
    "get_artist_id(api_token, 'PauPau 🇵🇭', 'artists')"
   ]
  },
  {
   "cell_type": "code",
   "execution_count": null,
   "metadata": {},
   "outputs": [],
   "source": [
    "get_artist_id(api_token, 'Drake', 'artists')"
   ]
  },
  {
   "cell_type": "code",
   "execution_count": null,
   "metadata": {},
   "outputs": [],
   "source": []
  },
  {
   "cell_type": "code",
   "execution_count": null,
   "metadata": {},
   "outputs": [],
   "source": []
  }
 ],
 "metadata": {
  "kernelspec": {
   "display_name": "Python 3",
   "language": "python",
   "name": "python3"
  },
  "language_info": {
   "codemirror_mode": {
    "name": "ipython",
    "version": 3
   },
   "file_extension": ".py",
   "mimetype": "text/x-python",
   "name": "python",
   "nbconvert_exporter": "python",
   "pygments_lexer": "ipython3",
   "version": "3.7.4"
  },
  "toc": {
   "base_numbering": 1,
   "nav_menu": {},
   "number_sections": true,
   "sideBar": true,
   "skip_h1_title": false,
   "title_cell": "Table of Contents",
   "title_sidebar": "Contents",
   "toc_cell": false,
   "toc_position": {
    "height": "calc(100% - 180px)",
    "left": "10px",
    "top": "150px",
    "width": "361.969px"
   },
   "toc_section_display": true,
   "toc_window_display": true
  }
 },
 "nbformat": 4,
 "nbformat_minor": 4
}
